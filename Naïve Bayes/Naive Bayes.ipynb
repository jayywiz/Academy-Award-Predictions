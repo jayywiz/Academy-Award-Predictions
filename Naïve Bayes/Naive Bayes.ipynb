{
 "cells": [
  {
   "cell_type": "markdown",
   "id": "001c8286-94ea-494f-bdef-691a9c3f775b",
   "metadata": {},
   "source": [
    "# **Naïve Bayes**"
   ]
  },
  {
   "cell_type": "markdown",
   "id": "f6463aaa-9f5c-423d-8787-dabed4f6260e",
   "metadata": {},
   "source": [
    "## Inspecting the dataset"
   ]
  },
  {
   "cell_type": "code",
   "execution_count": 51,
   "id": "ff6e597e-b5c5-476a-9a64-0800e5930be7",
   "metadata": {},
   "outputs": [
    {
     "data": {
      "text/html": [
       "<div>\n",
       "<style scoped>\n",
       "    .dataframe tbody tr th:only-of-type {\n",
       "        vertical-align: middle;\n",
       "    }\n",
       "\n",
       "    .dataframe tbody tr th {\n",
       "        vertical-align: top;\n",
       "    }\n",
       "\n",
       "    .dataframe thead th {\n",
       "        text-align: right;\n",
       "    }\n",
       "</style>\n",
       "<table border=\"1\" class=\"dataframe\">\n",
       "  <thead>\n",
       "    <tr style=\"text-align: right;\">\n",
       "      <th></th>\n",
       "      <th>Year</th>\n",
       "      <th>Category</th>\n",
       "      <th>Film</th>\n",
       "      <th>Film_ID</th>\n",
       "      <th>Nominee</th>\n",
       "      <th>Winner</th>\n",
       "      <th>TMDb_ID</th>\n",
       "      <th>Popularity</th>\n",
       "      <th>Vote_Count</th>\n",
       "      <th>Vote_Average</th>\n",
       "      <th>Genres</th>\n",
       "      <th>Director</th>\n",
       "      <th>IMDb_Rating</th>\n",
       "    </tr>\n",
       "  </thead>\n",
       "  <tbody>\n",
       "    <tr>\n",
       "      <th>0</th>\n",
       "      <td>1972</td>\n",
       "      <td>Best Cinematography</td>\n",
       "      <td>1776</td>\n",
       "      <td>tt0068156</td>\n",
       "      <td>Harry Stradling, Jr.</td>\n",
       "      <td>False</td>\n",
       "      <td>14902</td>\n",
       "      <td>6.822</td>\n",
       "      <td>75</td>\n",
       "      <td>6.8</td>\n",
       "      <td>Drama, History, Musical</td>\n",
       "      <td>Peter H. Hunt</td>\n",
       "      <td>7.2</td>\n",
       "    </tr>\n",
       "    <tr>\n",
       "      <th>1</th>\n",
       "      <td>2019</td>\n",
       "      <td>Best Cinematography</td>\n",
       "      <td>1917</td>\n",
       "      <td>tt8579674</td>\n",
       "      <td>Roger Deakins</td>\n",
       "      <td>True</td>\n",
       "      <td>530915</td>\n",
       "      <td>45.996</td>\n",
       "      <td>12542</td>\n",
       "      <td>8.0</td>\n",
       "      <td>Action, Drama, War</td>\n",
       "      <td>Sam Mendes</td>\n",
       "      <td>8.2</td>\n",
       "    </tr>\n",
       "    <tr>\n",
       "      <th>2</th>\n",
       "      <td>2019</td>\n",
       "      <td>Best Director</td>\n",
       "      <td>1917</td>\n",
       "      <td>tt8579674</td>\n",
       "      <td>Sam Mendes</td>\n",
       "      <td>False</td>\n",
       "      <td>530915</td>\n",
       "      <td>45.996</td>\n",
       "      <td>12542</td>\n",
       "      <td>8.0</td>\n",
       "      <td>Action, Drama, War</td>\n",
       "      <td>Sam Mendes</td>\n",
       "      <td>8.2</td>\n",
       "    </tr>\n",
       "    <tr>\n",
       "      <th>3</th>\n",
       "      <td>2019</td>\n",
       "      <td>Best Picture</td>\n",
       "      <td>1917</td>\n",
       "      <td>tt8579674</td>\n",
       "      <td>Sam Mendes, Pippa Harris, Jayne-Ann Tenggren a...</td>\n",
       "      <td>False</td>\n",
       "      <td>530915</td>\n",
       "      <td>45.996</td>\n",
       "      <td>12542</td>\n",
       "      <td>8.0</td>\n",
       "      <td>Action, Drama, War</td>\n",
       "      <td>Sam Mendes</td>\n",
       "      <td>8.2</td>\n",
       "    </tr>\n",
       "    <tr>\n",
       "      <th>4</th>\n",
       "      <td>2019</td>\n",
       "      <td>Best Original Screenplay</td>\n",
       "      <td>1917</td>\n",
       "      <td>tt8579674</td>\n",
       "      <td>Written by Sam Mendes &amp; Krysty Wilson-Cairns</td>\n",
       "      <td>False</td>\n",
       "      <td>530915</td>\n",
       "      <td>45.996</td>\n",
       "      <td>12542</td>\n",
       "      <td>8.0</td>\n",
       "      <td>Action, Drama, War</td>\n",
       "      <td>Sam Mendes</td>\n",
       "      <td>8.2</td>\n",
       "    </tr>\n",
       "  </tbody>\n",
       "</table>\n",
       "</div>"
      ],
      "text/plain": [
       "   Year                  Category  Film    Film_ID  \\\n",
       "0  1972       Best Cinematography  1776  tt0068156   \n",
       "1  2019       Best Cinematography  1917  tt8579674   \n",
       "2  2019             Best Director  1917  tt8579674   \n",
       "3  2019              Best Picture  1917  tt8579674   \n",
       "4  2019  Best Original Screenplay  1917  tt8579674   \n",
       "\n",
       "                                             Nominee  Winner  TMDb_ID  \\\n",
       "0                               Harry Stradling, Jr.   False    14902   \n",
       "1                                      Roger Deakins    True   530915   \n",
       "2                                         Sam Mendes   False   530915   \n",
       "3  Sam Mendes, Pippa Harris, Jayne-Ann Tenggren a...   False   530915   \n",
       "4       Written by Sam Mendes & Krysty Wilson-Cairns   False   530915   \n",
       "\n",
       "   Popularity  Vote_Count  Vote_Average                   Genres  \\\n",
       "0       6.822          75           6.8  Drama, History, Musical   \n",
       "1      45.996       12542           8.0       Action, Drama, War   \n",
       "2      45.996       12542           8.0       Action, Drama, War   \n",
       "3      45.996       12542           8.0       Action, Drama, War   \n",
       "4      45.996       12542           8.0       Action, Drama, War   \n",
       "\n",
       "        Director  IMDb_Rating  \n",
       "0  Peter H. Hunt          7.2  \n",
       "1     Sam Mendes          8.2  \n",
       "2     Sam Mendes          8.2  \n",
       "3     Sam Mendes          8.2  \n",
       "4     Sam Mendes          8.2  "
      ]
     },
     "execution_count": 51,
     "metadata": {},
     "output_type": "execute_result"
    }
   ],
   "source": [
    "import pandas as pd\n",
    "from sklearn.metrics import accuracy_score, classification_report, confusion_matrix\n",
    "\n",
    "file_path = \"final_cleaned_oscars.csv\"\n",
    "df = pd.read_csv(file_path)\n",
    "\n",
    "df.head()"
   ]
  },
  {
   "cell_type": "markdown",
   "id": "beb01f80-ed66-4d10-8558-d1b2ca0037f0",
   "metadata": {},
   "source": [
    "## Cleaning the dataset"
   ]
  },
  {
   "cell_type": "code",
   "execution_count": 63,
   "id": "353e9f7e-1b22-4afd-8507-dff0ef851cfe",
   "metadata": {},
   "outputs": [
    {
     "data": {
      "text/html": [
       "<div>\n",
       "<style scoped>\n",
       "    .dataframe tbody tr th:only-of-type {\n",
       "        vertical-align: middle;\n",
       "    }\n",
       "\n",
       "    .dataframe tbody tr th {\n",
       "        vertical-align: top;\n",
       "    }\n",
       "\n",
       "    .dataframe thead th {\n",
       "        text-align: right;\n",
       "    }\n",
       "</style>\n",
       "<table border=\"1\" class=\"dataframe\">\n",
       "  <thead>\n",
       "    <tr style=\"text-align: right;\">\n",
       "      <th></th>\n",
       "      <th>Winner</th>\n",
       "      <th>Category</th>\n",
       "      <th>Genres</th>\n",
       "      <th>Director</th>\n",
       "      <th>Vote_Count</th>\n",
       "      <th>Popularity</th>\n",
       "    </tr>\n",
       "  </thead>\n",
       "  <tbody>\n",
       "    <tr>\n",
       "      <th>0</th>\n",
       "      <td>False</td>\n",
       "      <td>Best Cinematography</td>\n",
       "      <td>Drama, History, Musical</td>\n",
       "      <td>Peter H. Hunt</td>\n",
       "      <td>75</td>\n",
       "      <td>6.822</td>\n",
       "    </tr>\n",
       "    <tr>\n",
       "      <th>1</th>\n",
       "      <td>True</td>\n",
       "      <td>Best Cinematography</td>\n",
       "      <td>Action, Drama, War</td>\n",
       "      <td>Sam Mendes</td>\n",
       "      <td>12542</td>\n",
       "      <td>45.996</td>\n",
       "    </tr>\n",
       "    <tr>\n",
       "      <th>2</th>\n",
       "      <td>False</td>\n",
       "      <td>Best Director</td>\n",
       "      <td>Action, Drama, War</td>\n",
       "      <td>Sam Mendes</td>\n",
       "      <td>12542</td>\n",
       "      <td>45.996</td>\n",
       "    </tr>\n",
       "    <tr>\n",
       "      <th>3</th>\n",
       "      <td>False</td>\n",
       "      <td>Best Picture</td>\n",
       "      <td>Action, Drama, War</td>\n",
       "      <td>Sam Mendes</td>\n",
       "      <td>12542</td>\n",
       "      <td>45.996</td>\n",
       "    </tr>\n",
       "    <tr>\n",
       "      <th>4</th>\n",
       "      <td>False</td>\n",
       "      <td>Best Original Screenplay</td>\n",
       "      <td>Action, Drama, War</td>\n",
       "      <td>Sam Mendes</td>\n",
       "      <td>12542</td>\n",
       "      <td>45.996</td>\n",
       "    </tr>\n",
       "  </tbody>\n",
       "</table>\n",
       "</div>"
      ],
      "text/plain": [
       "   Winner                  Category                   Genres       Director  \\\n",
       "0   False       Best Cinematography  Drama, History, Musical  Peter H. Hunt   \n",
       "1    True       Best Cinematography       Action, Drama, War     Sam Mendes   \n",
       "2   False             Best Director       Action, Drama, War     Sam Mendes   \n",
       "3   False              Best Picture       Action, Drama, War     Sam Mendes   \n",
       "4   False  Best Original Screenplay       Action, Drama, War     Sam Mendes   \n",
       "\n",
       "   Vote_Count  Popularity  \n",
       "0          75       6.822  \n",
       "1       12542      45.996  \n",
       "2       12542      45.996  \n",
       "3       12542      45.996  \n",
       "4       12542      45.996  "
      ]
     },
     "execution_count": 63,
     "metadata": {},
     "output_type": "execute_result"
    }
   ],
   "source": [
    "df_nb = df[['Winner', 'Category', 'Genres', 'Director', 'Vote_Count', 'Popularity']].copy()\n",
    "df_nb.dropna(inplace=True) \n",
    "\n",
    "df_nb.to_csv('nb_cleaned.csv', index=False)\n",
    "df_nb.head()"
   ]
  },
  {
   "cell_type": "markdown",
   "id": "52f5e33e-e967-485a-bf95-73ff17c132be",
   "metadata": {},
   "source": [
    "## Encoding categorical features"
   ]
  },
  {
   "cell_type": "code",
   "execution_count": 64,
   "id": "df50e4a8-777a-4ab9-827d-565591fdb5f9",
   "metadata": {},
   "outputs": [
    {
     "data": {
      "text/html": [
       "<div>\n",
       "<style scoped>\n",
       "    .dataframe tbody tr th:only-of-type {\n",
       "        vertical-align: middle;\n",
       "    }\n",
       "\n",
       "    .dataframe tbody tr th {\n",
       "        vertical-align: top;\n",
       "    }\n",
       "\n",
       "    .dataframe thead th {\n",
       "        text-align: right;\n",
       "    }\n",
       "</style>\n",
       "<table border=\"1\" class=\"dataframe\">\n",
       "  <thead>\n",
       "    <tr style=\"text-align: right;\">\n",
       "      <th></th>\n",
       "      <th>Winner</th>\n",
       "      <th>Category</th>\n",
       "      <th>Genres</th>\n",
       "      <th>Director</th>\n",
       "      <th>Vote_Count</th>\n",
       "      <th>Popularity</th>\n",
       "    </tr>\n",
       "  </thead>\n",
       "  <tbody>\n",
       "    <tr>\n",
       "      <th>0</th>\n",
       "      <td>False</td>\n",
       "      <td>3</td>\n",
       "      <td>173</td>\n",
       "      <td>562</td>\n",
       "      <td>75</td>\n",
       "      <td>6.822</td>\n",
       "    </tr>\n",
       "    <tr>\n",
       "      <th>1</th>\n",
       "      <td>True</td>\n",
       "      <td>3</td>\n",
       "      <td>30</td>\n",
       "      <td>656</td>\n",
       "      <td>12542</td>\n",
       "      <td>45.996</td>\n",
       "    </tr>\n",
       "    <tr>\n",
       "      <th>2</th>\n",
       "      <td>False</td>\n",
       "      <td>4</td>\n",
       "      <td>30</td>\n",
       "      <td>656</td>\n",
       "      <td>12542</td>\n",
       "      <td>45.996</td>\n",
       "    </tr>\n",
       "    <tr>\n",
       "      <th>3</th>\n",
       "      <td>False</td>\n",
       "      <td>6</td>\n",
       "      <td>30</td>\n",
       "      <td>656</td>\n",
       "      <td>12542</td>\n",
       "      <td>45.996</td>\n",
       "    </tr>\n",
       "    <tr>\n",
       "      <th>4</th>\n",
       "      <td>False</td>\n",
       "      <td>5</td>\n",
       "      <td>30</td>\n",
       "      <td>656</td>\n",
       "      <td>12542</td>\n",
       "      <td>45.996</td>\n",
       "    </tr>\n",
       "  </tbody>\n",
       "</table>\n",
       "</div>"
      ],
      "text/plain": [
       "   Winner  Category  Genres  Director  Vote_Count  Popularity\n",
       "0   False         3     173       562          75       6.822\n",
       "1    True         3      30       656       12542      45.996\n",
       "2   False         4      30       656       12542      45.996\n",
       "3   False         6      30       656       12542      45.996\n",
       "4   False         5      30       656       12542      45.996"
      ]
     },
     "execution_count": 64,
     "metadata": {},
     "output_type": "execute_result"
    }
   ],
   "source": [
    "from sklearn.preprocessing import LabelEncoder\n",
    "\n",
    "# Encode categorical columns\n",
    "le_category = LabelEncoder()\n",
    "le_genres = LabelEncoder()\n",
    "le_director = LabelEncoder()\n",
    "\n",
    "df_nb['Category'] = le_category.fit_transform(df_nb['Category'])\n",
    "df_nb['Genres'] = le_genres.fit_transform(df_nb['Genres'])\n",
    "df_nb['Director'] = le_director.fit_transform(df_nb['Director'])\n",
    "\n",
    "df_nb.to_csv('nb_encoded.csv', index=False)\n",
    "df_nb.head()"
   ]
  },
  {
   "cell_type": "markdown",
   "id": "a67f49e3-c038-4eb0-81b2-0c2beaafd3d3",
   "metadata": {},
   "source": [
    "## Splitting data into features (X) and target (y)"
   ]
  },
  {
   "cell_type": "markdown",
   "id": "66238f64-5c67-4ec0-97e3-6501c7c96070",
   "metadata": {},
   "source": [
    "The data is split into disjoint training and testing sets (70/30), and each set is saved for transparency and reproducibility. The target variable is `Winner`, and features are numeric or encoded."
   ]
  },
  {
   "cell_type": "code",
   "execution_count": 54,
   "id": "bc1d705f-ee69-4772-acda-6607630e4b8f",
   "metadata": {},
   "outputs": [],
   "source": [
    "from sklearn.model_selection import train_test_split\n",
    "\n",
    "X = df_nb.drop('Winner', axis=1)\n",
    "y = df_nb['Winner']\n",
    "\n",
    "X_train, X_test, y_train, y_test = train_test_split(\n",
    "    X, y, test_size=0.3, random_state=42, stratify=y\n",
    ")"
   ]
  },
  {
   "cell_type": "markdown",
   "id": "8965e145-9ba9-49e1-bd53-c0dc6af1a37d",
   "metadata": {},
   "source": [
    "## Saving the datasets"
   ]
  },
  {
   "cell_type": "code",
   "execution_count": 55,
   "id": "8f116c89-d7e3-4370-8a54-2e69c6e49562",
   "metadata": {},
   "outputs": [],
   "source": [
    "train_df = X_train.copy()\n",
    "train_df['Winner'] = y_train\n",
    "\n",
    "test_df = X_test.copy()\n",
    "test_df['Winner'] = y_test\n",
    "\n",
    "train_df.to_csv('nb_train_data.csv', index=False)\n",
    "test_df.to_csv('nb_test_data.csv', index=False)"
   ]
  },
  {
   "cell_type": "markdown",
   "id": "66e6e30c-867c-4f99-8ebe-ebbbc1a06fd5",
   "metadata": {},
   "source": [
    "## Multinomial Naïve Bayes:"
   ]
  },
  {
   "cell_type": "code",
   "execution_count": 56,
   "id": "864c79e8-99f1-4ecc-bc06-6cc444645786",
   "metadata": {},
   "outputs": [
    {
     "name": "stdout",
     "output_type": "stream",
     "text": [
      "MultinomialNB Accuracy: 0.6682847896440129\n",
      "[[749 249]\n",
      " [161  77]]\n",
      "              precision    recall  f1-score   support\n",
      "\n",
      "       False       0.82      0.75      0.79       998\n",
      "        True       0.24      0.32      0.27       238\n",
      "\n",
      "    accuracy                           0.67      1236\n",
      "   macro avg       0.53      0.54      0.53      1236\n",
      "weighted avg       0.71      0.67      0.69      1236\n",
      "\n"
     ]
    }
   ],
   "source": [
    "from sklearn.naive_bayes import MultinomialNB\n",
    "\n",
    "mnb = MultinomialNB()\n",
    "mnb.fit(X_train, y_train)\n",
    "y_pred_mnb = mnb.predict(X_test)\n",
    "\n",
    "print(\"MultinomialNB Accuracy:\", accuracy_score(y_test, y_pred_mnb))\n",
    "print(confusion_matrix(y_test, y_pred_mnb))\n",
    "print(classification_report(y_test, y_pred_mnb))"
   ]
  },
  {
   "cell_type": "markdown",
   "id": "4ffcd767-8d09-426b-8363-7561f7efdf75",
   "metadata": {},
   "source": [
    "**Confusion Matrix for MultinomialNB:**"
   ]
  },
  {
   "cell_type": "code",
   "execution_count": 57,
   "id": "181444a1-d093-4ff0-8012-2bb962a0394a",
   "metadata": {},
   "outputs": [
    {
     "data": {
      "image/png": "[encoded data removed]",
      "text/plain": [
       "<Figure size 600x400 with 2 Axes>"
      ]
     },
     "metadata": {},
     "output_type": "display_data"
    }
   ],
   "source": [
    "from sklearn.metrics import confusion_matrix\n",
    "import seaborn as sns\n",
    "import matplotlib.pyplot as plt\n",
    "\n",
    "cm_mnb = confusion_matrix(y_test, y_pred_mnb)\n",
    "\n",
    "plt.figure(figsize=(6, 4))\n",
    "sns.heatmap(cm_mnb, annot=True, fmt='d', cmap='Blues',\n",
    "            xticklabels=[\"Not Winner\", \"Winner\"],\n",
    "            yticklabels=[\"Not Winner\", \"Winner\"])\n",
    "plt.title(\"Confusion Matrix – MultinomialNB\")\n",
    "plt.xlabel(\"Predicted\")\n",
    "plt.ylabel(\"Actual\")\n",
    "plt.tight_layout()\n",
    "plt.show()"
   ]
  },
  {
   "cell_type": "markdown",
   "id": "814f6a44-fd67-4c7c-8280-893413687b54",
   "metadata": {},
   "source": [
    "## Bernoulli Naïve Bayes"
   ]
  },
  {
   "cell_type": "code",
   "execution_count": 58,
   "id": "00d52efa-a3e6-4b5c-ade9-67772a44356f",
   "metadata": {},
   "outputs": [
    {
     "name": "stdout",
     "output_type": "stream",
     "text": [
      "BernoulliNB Accuracy: 0.8074433656957929\n",
      "              precision    recall  f1-score   support\n",
      "\n",
      "       False       0.81      1.00      0.89       998\n",
      "        True       0.00      0.00      0.00       238\n",
      "\n",
      "    accuracy                           0.81      1236\n",
      "   macro avg       0.40      0.50      0.45      1236\n",
      "weighted avg       0.65      0.81      0.72      1236\n",
      "\n"
     ]
    },
    {
     "name": "stderr",
     "output_type": "stream",
     "text": [
      "/opt/conda/lib/python3.10/site-packages/sklearn/metrics/_classification.py:1344: UndefinedMetricWarning: Precision and F-score are ill-defined and being set to 0.0 in labels with no predicted samples. Use `zero_division` parameter to control this behavior.\n",
      "  _warn_prf(average, modifier, msg_start, len(result))\n",
      "/opt/conda/lib/python3.10/site-packages/sklearn/metrics/_classification.py:1344: UndefinedMetricWarning: Precision and F-score are ill-defined and being set to 0.0 in labels with no predicted samples. Use `zero_division` parameter to control this behavior.\n",
      "  _warn_prf(average, modifier, msg_start, len(result))\n",
      "/opt/conda/lib/python3.10/site-packages/sklearn/metrics/_classification.py:1344: UndefinedMetricWarning: Precision and F-score are ill-defined and being set to 0.0 in labels with no predicted samples. Use `zero_division` parameter to control this behavior.\n",
      "  _warn_prf(average, modifier, msg_start, len(result))\n"
     ]
    }
   ],
   "source": [
    "from sklearn.naive_bayes import BernoulliNB\n",
    "from sklearn.preprocessing import Binarizer\n",
    "\n",
    "binarizer = Binarizer()\n",
    "X_train_bin = binarizer.fit_transform(X_train)\n",
    "X_test_bin = binarizer.transform(X_test)\n",
    "\n",
    "bnb = BernoulliNB()\n",
    "bnb.fit(X_train_bin, y_train)\n",
    "y_pred_bnb = bnb.predict(X_test_bin)\n",
    "\n",
    "print(\"BernoulliNB Accuracy:\", accuracy_score(y_test, y_pred_bnb))\n",
    "print(classification_report(y_test, y_pred_bnb))"
   ]
  },
  {
   "cell_type": "markdown",
   "id": "d26e1363-5d60-459d-9318-ba9db00f50b6",
   "metadata": {},
   "source": [
    "**Confusion Matrix for BernoulliNB**"
   ]
  },
  {
   "cell_type": "code",
   "execution_count": 59,
   "id": "be06fe65-7608-4193-943e-6873fae5615b",
   "metadata": {},
   "outputs": [
    {
     "data": {
      "image/png": "[encoded data removed]",
      "text/plain": [
       "<Figure size 600x400 with 2 Axes>"
      ]
     },
     "metadata": {},
     "output_type": "display_data"
    }
   ],
   "source": [
    "cm_bnb = confusion_matrix(y_test, y_pred_bnb)\n",
    "\n",
    "plt.figure(figsize=(6, 4))\n",
    "sns.heatmap(cm_bnb, annot=True, fmt='d', cmap='Blues',\n",
    "            xticklabels=[\"Not Winner\", \"Winner\"],\n",
    "            yticklabels=[\"Not Winner\", \"Winner\"])\n",
    "plt.title(\"Confusion Matrix – BernoulliNB\")\n",
    "plt.xlabel(\"Predicted\")\n",
    "plt.ylabel(\"Actual\")\n",
    "plt.tight_layout()\n",
    "plt.show()"
   ]
  },
  {
   "cell_type": "markdown",
   "id": "67bed745-aa8c-41e4-9e8c-b64b4249e323",
   "metadata": {},
   "source": [
    "## Categorical Naïve Bayes"
   ]
  },
  {
   "cell_type": "code",
   "execution_count": 60,
   "id": "92812f12-56ff-4410-b0a0-78d9fefde65a",
   "metadata": {},
   "outputs": [
    {
     "name": "stdout",
     "output_type": "stream",
     "text": [
      "CategoricalNB Accuracy: 0.7969255663430421\n",
      "[[967  31]\n",
      " [220  18]]\n",
      "              precision    recall  f1-score   support\n",
      "\n",
      "       False       0.81      0.97      0.89       998\n",
      "        True       0.37      0.08      0.13       238\n",
      "\n",
      "    accuracy                           0.80      1236\n",
      "   macro avg       0.59      0.52      0.51      1236\n",
      "weighted avg       0.73      0.80      0.74      1236\n",
      "\n"
     ]
    }
   ],
   "source": [
    "from sklearn.naive_bayes import CategoricalNB\n",
    "cnb = CategoricalNB()\n",
    "\n",
    "cnb.fit(X_train, y_train)\n",
    "y_pred_cnb = cnb.predict(X_test)\n",
    "\n",
    "print(\"CategoricalNB Accuracy:\", accuracy_score(y_test, y_pred_cnb))\n",
    "print(confusion_matrix(y_test, y_pred_cnb))\n",
    "print(classification_report(y_test, y_pred_cnb))"
   ]
  },
  {
   "cell_type": "markdown",
   "id": "56b6f34e-8c4d-47f8-9380-3ae13bfd656b",
   "metadata": {},
   "source": [
    "**Confusion Matrix for CategoricalNB**"
   ]
  },
  {
   "cell_type": "code",
   "execution_count": 61,
   "id": "c6472cb7-fa6e-4c9f-a815-4be6a2db714b",
   "metadata": {},
   "outputs": [
    {
     "data": {
      "image/png": "[encoded data removed]",
      "text/plain": [
       "<Figure size 600x400 with 2 Axes>"
      ]
     },
     "metadata": {},
     "output_type": "display_data"
    }
   ],
   "source": [
    "import seaborn as sns\n",
    "import matplotlib.pyplot as plt\n",
    "from sklearn.metrics import confusion_matrix\n",
    "\n",
    "cm = confusion_matrix(y_test, y_pred_cnb)\n",
    "\n",
    "plt.figure(figsize=(6, 4))\n",
    "sns.heatmap(cm, annot=True, fmt=\"d\", cmap=\"Blues\",\n",
    "            xticklabels=[\"Not Winner\", \"Winner\"],\n",
    "            yticklabels=[\"Not Winner\", \"Winner\"])\n",
    "plt.xlabel(\"Predicted\")\n",
    "plt.ylabel(\"Actual\")\n",
    "plt.title(\"Confusion Matrix - Categorical Naïve Bayes\")\n",
    "plt.tight_layout()\n",
    "plt.show()"
   ]
  },
  {
   "cell_type": "code",
   "execution_count": 62,
   "id": "0b4188f3-3b30-4b0b-aed7-13788d4c3ed5",
   "metadata": {},
   "outputs": [
    {
     "data": {
      "text/html": [
       "<div>\n",
       "<style scoped>\n",
       "    .dataframe tbody tr th:only-of-type {\n",
       "        vertical-align: middle;\n",
       "    }\n",
       "\n",
       "    .dataframe tbody tr th {\n",
       "        vertical-align: top;\n",
       "    }\n",
       "\n",
       "    .dataframe thead th {\n",
       "        text-align: right;\n",
       "    }\n",
       "</style>\n",
       "<table border=\"1\" class=\"dataframe\">\n",
       "  <thead>\n",
       "    <tr style=\"text-align: right;\">\n",
       "      <th></th>\n",
       "      <th>Model</th>\n",
       "      <th>Accuracy</th>\n",
       "    </tr>\n",
       "  </thead>\n",
       "  <tbody>\n",
       "    <tr>\n",
       "      <th>0</th>\n",
       "      <td>MultinomialNB</td>\n",
       "      <td>0.668285</td>\n",
       "    </tr>\n",
       "    <tr>\n",
       "      <th>1</th>\n",
       "      <td>BernoulliNB</td>\n",
       "      <td>0.807443</td>\n",
       "    </tr>\n",
       "    <tr>\n",
       "      <th>2</th>\n",
       "      <td>CategoricalNB</td>\n",
       "      <td>0.796926</td>\n",
       "    </tr>\n",
       "  </tbody>\n",
       "</table>\n",
       "</div>"
      ],
      "text/plain": [
       "           Model  Accuracy\n",
       "0  MultinomialNB  0.668285\n",
       "1    BernoulliNB  0.807443\n",
       "2  CategoricalNB  0.796926"
      ]
     },
     "execution_count": 62,
     "metadata": {},
     "output_type": "execute_result"
    }
   ],
   "source": [
    "results = {\n",
    "    \"Model\": [\"MultinomialNB\", \"BernoulliNB\", \"CategoricalNB\"],\n",
    "    \"Accuracy\": [\n",
    "        accuracy_score(y_test, y_pred_mnb),\n",
    "        accuracy_score(y_test, y_pred_bnb),\n",
    "        accuracy_score(y_test, y_pred_cnb)\n",
    "    ]\n",
    "}\n",
    "\n",
    "pd.DataFrame(results)"
   ]
  }
 ],
 "metadata": {
  "kernelspec": {
   "display_name": "Python 3 (ipykernel)",
   "language": "python",
   "name": "python3"
  },
  "language_info": {
   "codemirror_mode": {
    "name": "ipython",
    "version": 3
   },
   "file_extension": ".py",
   "mimetype": "text/x-python",
   "name": "python",
   "nbconvert_exporter": "python",
   "pygments_lexer": "ipython3",
   "version": "3.10.8"
  }
 },
 "nbformat": 4,
 "nbformat_minor": 5
}
